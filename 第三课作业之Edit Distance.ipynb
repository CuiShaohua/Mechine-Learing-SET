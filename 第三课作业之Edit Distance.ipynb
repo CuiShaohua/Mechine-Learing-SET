{
 "cells": [
  {
   "cell_type": "markdown",
   "metadata": {},
   "source": [
    "# Edit Distance主要有三种情况：\n",
    "（1）插入：造成长度增加 1\n",
    "（2）删除：造成长度减小 1\n",
    "（3）替换：不对长度产生影响，但是对内容产生影响"
   ]
  },
  {
   "cell_type": "markdown",
   "metadata": {},
   "source": [
    "## string1 = A B D\n",
    "## string2 = A B C D"
   ]
  },
  {
   "cell_type": "markdown",
   "metadata": {},
   "source": [
    "如果string2删除了一个字符，string1就等于string2了，那就是代表string1 insert operation eaquals string2 "
   ]
  },
  {
   "cell_type": "markdown",
   "metadata": {},
   "source": [
    "那么怎么删除这个字符，或者删除哪个字符能让他俩相等，这个需要需要进行判断。"
   ]
  },
  {
   "cell_type": "code",
   "execution_count": null,
   "metadata": {},
   "outputs": [],
   "source": [
    "下面的方法并没有采用这种方法，而是采取了"
   ]
  },
  {
   "cell_type": "code",
   "execution_count": 1,
   "metadata": {},
   "outputs": [],
   "source": [
    "from functools import lru_cache"
   ]
  },
  {
   "cell_type": "code",
   "execution_count": 20,
   "metadata": {},
   "outputs": [],
   "source": [
    "solution = {}"
   ]
  },
  {
   "cell_type": "markdown",
   "metadata": {},
   "source": [
    "lru_cache的原理：https://www.cnblogs.com/muzinan110/p/11158608.html"
   ]
  },
  {
   "cell_type": "code",
   "execution_count": 68,
   "metadata": {},
   "outputs": [],
   "source": [
    "@lru_cache(maxsize=2**10)\n",
    "def edit_distance(string1, string2):\n",
    "    \n",
    "    if len(string1) == 0: return len(string2)\n",
    "    if len(string2) == 0: return len(string1)\n",
    "    \n",
    "    tail_s1 = string1[-1]\n",
    "    tail_s2 = string2[-1]\n",
    "    \n",
    "    candidates = [\n",
    "        (edit_distance(string1[:-1], string2) + 1, 'DEL {}'.format(tail_s1)),  # string 1 delete tail\n",
    "        (edit_distance(string1, string2[:-1]) + 1, 'ADD {}'.format(tail_s2)),  # string 1 add tail of string2\n",
    "    ]\n",
    "    \n",
    "    if tail_s1 == tail_s2:\n",
    "        both_forward = (edit_distance(string1[:-1], string2[:-1]) + 0, '')\n",
    "    else:\n",
    "        both_forward = (edit_distance(string1[:-1], string2[:-1]) + 1, 'SUB {} => {}'.format(tail_s1, tail_s2))\n",
    "\n",
    "    candidates.append(both_forward)\n",
    "    \n",
    "    min_distance, operation = min(candidates, key=lambda x: x[0])\n",
    "    \n",
    "    solution[(string1, string2)] = operation \n",
    "    \n",
    "    return min_distance"
   ]
  },
  {
   "cell_type": "code",
   "execution_count": 69,
   "metadata": {},
   "outputs": [
    {
     "data": {
      "text/plain": [
       "1"
      ]
     },
     "execution_count": 69,
     "metadata": {},
     "output_type": "execute_result"
    }
   ],
   "source": [
    "edit_distance('ABC', 'ABD')"
   ]
  },
  {
   "cell_type": "code",
   "execution_count": 70,
   "metadata": {
    "scrolled": true
   },
   "outputs": [
    {
     "data": {
      "text/plain": [
       "{('A', 'A'): '',\n",
       " ('A', 'AB'): 'ADD B',\n",
       " ('A', 'ABD'): 'ADD D',\n",
       " ('AB', 'A'): 'DEL B',\n",
       " ('AB', 'AB'): '',\n",
       " ('AB', 'ABD'): 'ADD D',\n",
       " ('ABC', 'A'): 'DEL C',\n",
       " ('ABC', 'AB'): 'DEL C',\n",
       " ('ABC', 'ABD'): 'SUB C => D'}"
      ]
     },
     "execution_count": 70,
     "metadata": {},
     "output_type": "execute_result"
    }
   ],
   "source": [
    "solution"
   ]
  },
  {
   "cell_type": "code",
   "execution_count": 44,
   "metadata": {},
   "outputs": [],
   "source": [
    "solution = {}"
   ]
  },
  {
   "cell_type": "code",
   "execution_count": 71,
   "metadata": {},
   "outputs": [
    {
     "data": {
      "text/plain": [
       "1"
      ]
     },
     "execution_count": 71,
     "metadata": {},
     "output_type": "execute_result"
    }
   ],
   "source": [
    "edit_distance('ACB','AB')"
   ]
  },
  {
   "cell_type": "code",
   "execution_count": 72,
   "metadata": {},
   "outputs": [
    {
     "data": {
      "text/plain": [
       "{('A', 'A'): '',\n",
       " ('A', 'AB'): 'ADD B',\n",
       " ('A', 'ABD'): 'ADD D',\n",
       " ('AB', 'A'): 'DEL B',\n",
       " ('AB', 'AB'): '',\n",
       " ('AB', 'ABD'): 'ADD D',\n",
       " ('ABC', 'A'): 'DEL C',\n",
       " ('ABC', 'AB'): 'DEL C',\n",
       " ('ABC', 'ABD'): 'SUB C => D',\n",
       " ('AC', 'A'): 'DEL C',\n",
       " ('AC', 'AB'): 'SUB C => B',\n",
       " ('ACB', 'A'): 'DEL B',\n",
       " ('ACB', 'AB'): ''}"
      ]
     },
     "execution_count": 72,
     "metadata": {},
     "output_type": "execute_result"
    }
   ],
   "source": [
    "solution"
   ]
  },
  {
   "cell_type": "code",
   "execution_count": 73,
   "metadata": {},
   "outputs": [],
   "source": [
    "solution ={}"
   ]
  },
  {
   "cell_type": "code",
   "execution_count": 74,
   "metadata": {},
   "outputs": [
    {
     "data": {
      "text/plain": [
       "5"
      ]
     },
     "execution_count": 74,
     "metadata": {},
     "output_type": "execute_result"
    }
   ],
   "source": [
    "edit_distance('BDRF','AECSD')"
   ]
  },
  {
   "cell_type": "code",
   "execution_count": 75,
   "metadata": {},
   "outputs": [
    {
     "data": {
      "text/plain": [
       "{('B', 'A'): 'SUB B => A',\n",
       " ('B', 'AE'): 'ADD E',\n",
       " ('B', 'AEC'): 'ADD C',\n",
       " ('B', 'AECS'): 'ADD S',\n",
       " ('B', 'AECSD'): 'ADD D',\n",
       " ('BD', 'A'): 'DEL D',\n",
       " ('BD', 'AE'): 'SUB D => E',\n",
       " ('BD', 'AEC'): 'ADD C',\n",
       " ('BD', 'AECS'): 'ADD S',\n",
       " ('BD', 'AECSD'): '',\n",
       " ('BDR', 'A'): 'DEL R',\n",
       " ('BDR', 'AE'): 'DEL R',\n",
       " ('BDR', 'AEC'): 'SUB R => C',\n",
       " ('BDR', 'AECS'): 'ADD S',\n",
       " ('BDR', 'AECSD'): 'DEL R',\n",
       " ('BDRF', 'A'): 'DEL F',\n",
       " ('BDRF', 'AE'): 'DEL F',\n",
       " ('BDRF', 'AEC'): 'DEL F',\n",
       " ('BDRF', 'AECS'): 'SUB F => S',\n",
       " ('BDRF', 'AECSD'): 'ADD D'}"
      ]
     },
     "execution_count": 75,
     "metadata": {},
     "output_type": "execute_result"
    }
   ],
   "source": [
    "solution"
   ]
  },
  {
   "cell_type": "code",
   "execution_count": 77,
   "metadata": {},
   "outputs": [
    {
     "data": {
      "text/plain": [
       "'SUB D => E'"
      ]
     },
     "execution_count": 77,
     "metadata": {},
     "output_type": "execute_result"
    }
   ],
   "source": [
    "solution[('BD','AE')]"
   ]
  },
  {
   "cell_type": "code",
   "execution_count": 139,
   "metadata": {},
   "outputs": [],
   "source": [
    "from collections import defaultdict\n",
    "transfer = list()"
   ]
  },
  {
   "cell_type": "code",
   "execution_count": 140,
   "metadata": {},
   "outputs": [],
   "source": [
    "def edit_trnasfer(str1, str2):\n",
    "    # 1 基线条件是 如果str1和str2的长度都为1，那么返回当前的操作\n",
    "    transfer.append(solution[(str1, str2)]) \n",
    "    if len(str1) == 1: return solution[(str1, str2)]\n",
    "    if len(str2) == 1: return solution[(str1, str2)]\n",
    "    if len(str1) >= len(str2):\n",
    "        return edit_trnasfer(str1[:-1], str2[:len(str1[:-1])])\n",
    "    else:\n",
    "        return edit_trnasfer(str1[:len(str2[:-1])], str2[:-1])\n",
    "    #transfer.append()\n",
    "    "
   ]
  },
  {
   "cell_type": "code",
   "execution_count": 141,
   "metadata": {
    "scrolled": true
   },
   "outputs": [
    {
     "data": {
      "text/plain": [
       "'SUB B => A'"
      ]
     },
     "execution_count": 141,
     "metadata": {},
     "output_type": "execute_result"
    }
   ],
   "source": [
    "edit_trnasfer('BDRF', 'AECSD')"
   ]
  },
  {
   "cell_type": "code",
   "execution_count": 169,
   "metadata": {},
   "outputs": [],
   "source": [
    "def trans_process(str1, str2, trans):\n",
    "    return (\"{}\" + ' through ' + str(trans[::-1]) + ' as '+\"{}\").format(str1, str2)"
   ]
  },
  {
   "cell_type": "code",
   "execution_count": 170,
   "metadata": {},
   "outputs": [
    {
     "data": {
      "text/plain": [
       "\"BDRF through ['SUB B => A', 'SUB D => E', 'SUB R => C', 'SUB F => S', 'ADD D'] as AECSD\""
      ]
     },
     "execution_count": 170,
     "metadata": {},
     "output_type": "execute_result"
    }
   ],
   "source": [
    "trans_process('BDRF','AECSD',transfer)"
   ]
  },
  {
   "cell_type": "markdown",
   "metadata": {},
   "source": [
    "# 通过transfer这个过程 BDRF 就可以变成 AECSD。"
   ]
  },
  {
   "cell_type": "code",
   "execution_count": null,
   "metadata": {},
   "outputs": [],
   "source": []
  }
 ],
 "metadata": {
  "kernelspec": {
   "display_name": "Python 3",
   "language": "python",
   "name": "python3"
  },
  "language_info": {
   "codemirror_mode": {
    "name": "ipython",
    "version": 3
   },
   "file_extension": ".py",
   "mimetype": "text/x-python",
   "name": "python",
   "nbconvert_exporter": "python",
   "pygments_lexer": "ipython3",
   "version": "3.6.4"
  }
 },
 "nbformat": 4,
 "nbformat_minor": 2
}
